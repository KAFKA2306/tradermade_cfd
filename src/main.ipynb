{
 "cells": [
  {
   "cell_type": "code",
   "execution_count": 1,
   "metadata": {},
   "outputs": [
    {
     "name": "stdout",
     "output_type": "stream",
     "text": [
      "Tradermade API Key set successfully from api_client.py\n",
      "--- Starting Data Fetch Cycle ---\n",
      "TRADERMADE_API_KEY が環境変数に見つかりました。\n",
      "Ensured directories exist: ['M:\\\\ML\\\\Finance\\\\tradermade_cfd\\\\output', 'M:\\\\ML\\\\Finance\\\\tradermade_cfd\\\\output\\\\real_time_data', 'M:\\\\ML\\\\Finance\\\\tradermade_cfd\\\\output\\\\historical_data', 'M:\\\\ML\\\\Finance\\\\tradermade_cfd\\\\output\\\\time_series_data', 'M:\\\\ML\\\\Finance\\\\tradermade_cfd\\\\output\\\\processed_metrics', 'M:\\\\ML\\\\Finance\\\\tradermade_cfd\\\\output\\\\indicators']\n",
      "Fetching real-time data for: USOIL,XAUUSD,DE40,US30\n",
      "Fetching real-time data for: USOIL,XAUUSD,DE40,US30\n",
      "Calling API function: live with args: {'currency': 'USOIL,XAUUSD,DE40,US30', 'fields': ['bid', 'mid', 'ask', 'instrument']}\n",
      "API Response type for live: <class 'pandas.core.frame.DataFrame'>\n",
      "Unexpected data type received from real-time API: <class 'pandas.core.frame.DataFrame'>\n",
      "Failed to fetch or save real-time data.\n",
      "Fetching historical data for: XAUUSD\n",
      "Fetching historical data for XAUUSD on 2025-04-10\n",
      "Calling API function: historical with args: {'currency': 'XAUUSD', 'date': '2025-04-10', 'interval': 'daily', 'fields': ['open', 'high', 'low', 'close', 'instrument']}\n",
      "API Response type for historical: <class 'pandas.core.frame.DataFrame'>\n",
      "Unexpected data type received from historical API: <class 'pandas.core.frame.DataFrame'>\n",
      "Failed to fetch or save historical data for XAUUSD.\n",
      "Fetching historical data for: USOIL\n",
      "Fetching historical data for USOIL on 2025-04-10\n",
      "Calling API function: historical with args: {'currency': 'USOIL', 'date': '2025-04-10', 'interval': 'daily', 'fields': ['open', 'high', 'low', 'close', 'instrument']}\n",
      "API Response type for historical: <class 'dict'>\n",
      "API Error reported by Tradermade for historical: currency code is either invalid or not covered in the plan\n",
      "Historical API call failed or returned error for USOIL on 2025-04-10.\n",
      "Failed to fetch or save historical data for USOIL.\n",
      "Fetching time series data for: XAUUSD\n",
      "Fetching hourly time series for XAUUSD from 2025-04-04-14:38 to 2025-04-11-14:38\n",
      "Calling API function: timeseries with args: {'currency': 'XAUUSD', 'start': '2025-04-04-14:38', 'end': '2025-04-11-14:38', 'interval': 'hourly', 'fields': ['open', 'high', 'low', 'close', 'instrument']}\n",
      "Exception during API call timeseries: \"['instrument'] not in index\"\n",
      "Time series API call failed or returned error for XAUUSD.\n",
      "Failed to fetch or save time series data for XAUUSD.\n",
      "Fetching time series data for: USOIL\n",
      "Fetching hourly time series for USOIL from 2025-04-04-14:38 to 2025-04-11-14:38\n",
      "Calling API function: timeseries with args: {'currency': 'USOIL', 'start': '2025-04-04-14:38', 'end': '2025-04-11-14:38', 'interval': 'hourly', 'fields': ['open', 'high', 'low', 'close', 'instrument']}\n",
      "API Response type for timeseries: <class 'dict'>\n",
      "Unexpected data type or structure received from time series API: <class 'dict'>\n",
      "Keys in received dict: dict_keys(['message'])\n",
      "Failed to fetch or save time series data for USOIL.\n",
      "--- Data Fetch Cycle Complete ---\n",
      "--- Starting Data Processing Cycle ---\n",
      "Ensured directories exist: ['M:\\\\ML\\\\Finance\\\\tradermade_cfd\\\\output', 'M:\\\\ML\\\\Finance\\\\tradermade_cfd\\\\output\\\\real_time_data', 'M:\\\\ML\\\\Finance\\\\tradermade_cfd\\\\output\\\\historical_data', 'M:\\\\ML\\\\Finance\\\\tradermade_cfd\\\\output\\\\time_series_data', 'M:\\\\ML\\\\Finance\\\\tradermade_cfd\\\\output\\\\processed_metrics', 'M:\\\\ML\\\\Finance\\\\tradermade_cfd\\\\output\\\\indicators']\n",
      "Searching for files: M:\\ML\\Finance\\tradermade_cfd\\output\\real_time_data\\real_time_data_*.parquet\n",
      "Reading latest file: M:\\ML\\Finance\\tradermade_cfd\\output\\real_time_data\\real_time_data_20250411_222804.parquet\n",
      "Calculating metrics between XAUUSD and USOIL...\n",
      "Metrics calculated: Basis=nan, Basis Rate=nan%\n",
      "Calculated metrics saved to M:\\ML\\Finance\\tradermade_cfd\\output\\processed_metrics\\calculated_metrics_20250411_233823.parquet\n",
      "--- Data Processing Cycle Complete ---\n"
     ]
    }
   ],
   "source": [
    "from main import main\n",
    "main()"
   ]
  }
 ],
 "metadata": {
  "language_info": {
   "name": "python"
  }
 },
 "nbformat": 4,
 "nbformat_minor": 2
}
