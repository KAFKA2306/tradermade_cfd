{
 "cells": [
  {
   "cell_type": "code",
   "execution_count": 1,
   "metadata": {},
   "outputs": [
    {
     "name": "stdout",
     "output_type": "stream",
     "text": [
      "Attempting to display latest metrics...\n",
      "Searching for files: M:\\ML\\Finance\\tradermade_cfd\\output\\processed_metrics\\calculated_metrics_*.parquet\n",
      "Reading latest file: M:\\ML\\Finance\\tradermade_cfd\\output\\processed_metrics\\calculated_metrics_20250411_233823.parquet\n",
      "Displaying data from the latest metrics file used: (Source DF shape: (1, 11))\n"
     ]
    },
    {
     "data": {
      "text/html": [
       "\n",
       "<style>\n",
       ".latest-data-grid {\n",
       "    display: grid;\n",
       "    grid-template-columns: repeat(auto-fit, minmax(300px, 1fr)); /* 幅を少し広げる */\n",
       "    gap: 12px; /* 少し間隔を広げる */\n",
       "    font-family: sans-serif;\n",
       "    border: 1px solid #ccc;\n",
       "    padding: 15px;\n",
       "    border-radius: 5px;\n",
       "    background-color: #f9f9f9;\n",
       "    margin-bottom: 15px; /* 下にマージン追加 */\n",
       "}\n",
       "\n",
       ".latest-data-item {\n",
       "    background-color: #fff;\n",
       "    padding: 12px; /* 少しパディングを増やす */\n",
       "    border: 1px solid #eee;\n",
       "    border-radius: 4px; /* 少し角を丸める */\n",
       "    word-wrap: break-word; /* 長い文字列を折り返す */\n",
       "}\n",
       "\n",
       ".latest-data-item strong {\n",
       "    /* display: inline-block; ラベルと値を横並びにする場合 */\n",
       "    display: block; /* ラベルを上に表示する場合 */\n",
       "    margin-bottom: 4px; /* ラベルと値の間隔 */\n",
       "    color: #333;\n",
       "    /* min-width: 150px; 横並びの場合に有効 */\n",
       "}\n",
       "</style>\n",
       "<div class=\"latest-data-grid\"><div class=\"latest-data-item\"><strong>現物ティッカー:</strong> XAUUSD</div><div class=\"latest-data-item\"><strong>先物ティッカー:</strong> USOIL</div><div class=\"latest-data-item\"><strong>現物価格:</strong> 3,230.3100</div><div class=\"latest-data-item\"><strong>先物価格:</strong> N/A</div><div class=\"latest-data-item\"><strong>ベーシス:</strong> N/A</div><div class=\"latest-data-item\"><strong>ベーシス率 (%):</strong> N/A</div><div class=\"latest-data-item\"><strong>年率換算ベーシス (30d, %):</strong> N/A</div><div class=\"latest-data-item\"><strong>市場レジーム:</strong> flat</div><div class=\"latest-data-item\"><strong>計算タイムスタンプ:</strong> 2025-04-11 23:38:23 (UTC?)</div><div class=\"latest-data-item\"><strong>現物データ日時:</strong> 2025-04-11 13:28:07 UTC</div><div class=\"latest-data-item\"><strong>先物データ日時:</strong> 2025-04-11 13:28:07 UTC</div></div>"
      ],
      "text/plain": [
       "<IPython.core.display.HTML object>"
      ]
     },
     "metadata": {},
     "output_type": "display_data"
    }
   ],
   "source": [
    "from view import main\n",
    "main()"
   ]
  }
 ],
 "metadata": {
  "language_info": {
   "name": "python"
  }
 },
 "nbformat": 4,
 "nbformat_minor": 2
}
